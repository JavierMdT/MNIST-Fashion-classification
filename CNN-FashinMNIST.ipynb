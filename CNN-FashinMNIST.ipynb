{
 "cells": [
  {
   "cell_type": "code",
   "execution_count": 47,
   "metadata": {},
   "outputs": [],
   "source": [
    "import torchvision\n",
    "from torchvision import transforms\n",
    "from torch.utils.data import Subset\n",
    "import torch\n",
    "from torch.utils.data import DataLoader\n",
    "import torch.nn as nn"
   ]
  },
  {
   "cell_type": "code",
   "execution_count": 48,
   "metadata": {},
   "outputs": [],
   "source": [
    "image_path = './'\n",
    "transform = transforms.Compose([\n",
    "    transforms.ToTensor()\n",
    "    ])\n",
    "\n",
    "mnist_dataset = torchvision.datasets.FashionMNIST(\n",
    "    root=image_path, train=True,\n",
    "    transform=transform, download=True\n",
    "    )\n",
    "\n",
    "mnist_train_dataset = Subset(mnist_dataset, torch.arange(3000))\n",
    "mnist_test_dataset = Subset(mnist_dataset, torch.arange(3000, 4000))"
   ]
  },
  {
   "cell_type": "code",
   "execution_count": 49,
   "metadata": {},
   "outputs": [
    {
     "name": "stdout",
     "output_type": "stream",
     "text": [
      "Tenemos un tamaño en train de 3000 y en test de 1000.\n",
      "El tamaño de la imagen es de 1x28x28\n"
     ]
    }
   ],
   "source": [
    "print(f\"Tenemos un tamaño en train de {len(mnist_train_dataset)} y en test de {len(mnist_test_dataset)}.\")\n",
    "image, label = mnist_train_dataset[0]\n",
    "print(f\"El tamaño de la imagen es de {image.shape[0]}x{image.shape[1]}x{image.shape[2]}\")"
   ]
  },
  {
   "cell_type": "code",
   "execution_count": 50,
   "metadata": {},
   "outputs": [],
   "source": [
    "# Creamos los batch\n",
    "batch_size = 64\n",
    "torch.manual_seed(1) # Imporante poner la semilla \n",
    "train_dl = DataLoader(mnist_train_dataset,\n",
    "                      batch_size,\n",
    "                      shuffle=True)\n",
    "\n",
    "test_dl = DataLoader(mnist_test_dataset,\n",
    "                      batch_size,\n",
    "                      shuffle=False)"
   ]
  },
  {
   "cell_type": "code",
   "execution_count": 51,
   "metadata": {},
   "outputs": [],
   "source": [
    "# Creamos la secuencia de pasos\n",
    "model = nn.Sequential()\n",
    "\n",
    "# _______________________________________________\n",
    "# Capa convolucion 1\n",
    "model.add_module(\n",
    "    'convLayer1',\n",
    "    nn.Conv2d(\n",
    "     in_channels = 1, out_channels = 32,\n",
    "     kernel_size = 5, padding = 2\n",
    "    )\n",
    ")\n",
    "# Capa funcion de activacion\n",
    "model.add_module('relu1',nn.ReLU())\n",
    "\n",
    "# Pooling \n",
    "model.add_module('pool1', nn.MaxPool2d(kernel_size=2))\n",
    "# _______________________________________________\n",
    "# Capa convolucion 2\n",
    "model.add_module(\n",
    "    'conv2',\n",
    "    nn.Conv2d(\n",
    "        in_channels = 32, out_channels = 64,\n",
    "        kernel_size = 5, padding = 2\n",
    "    )\n",
    ")\n",
    "\n",
    "# Capa funcion de activacion\n",
    "model.add_module('relu2',nn.ReLU())\n",
    "\n",
    "# Capa pooling \n",
    "model.add_module('pool2', nn.MaxPool2d(kernel_size = 2))\n",
    "# _______________________________________________\n",
    "\n"
   ]
  },
  {
   "cell_type": "code",
   "execution_count": 52,
   "metadata": {},
   "outputs": [
    {
     "data": {
      "text/plain": [
       "torch.Size([4, 64, 7, 7])"
      ]
     },
     "execution_count": 52,
     "metadata": {},
     "output_type": "execute_result"
    }
   ],
   "source": [
    "# Usamos una imagen de prueba para ver el shape de la salida\n",
    "x = torch.ones((4,1,28,28)) # Cuatro imagenes de 1x28x28 de prueba\n",
    "model(x).shape # Tamaño de la salida -> 4x64x7x7"
   ]
  },
  {
   "cell_type": "code",
   "execution_count": 53,
   "metadata": {},
   "outputs": [
    {
     "data": {
      "text/plain": [
       "torch.Size([4, 3136])"
      ]
     },
     "execution_count": 53,
     "metadata": {},
     "output_type": "execute_result"
    }
   ],
   "source": [
    "# Veamos el tamaño del vector tras el flattern\n",
    "model.add_module('flattern',nn.Flatten())\n",
    "model(x).shape # Tamaño del vector -> 4x3136 ; 3136 = 64x7x7"
   ]
  },
  {
   "cell_type": "code",
   "execution_count": 54,
   "metadata": {},
   "outputs": [],
   "source": [
    "# Terminamos el modelo metiendo la red neuronal \n",
    "\n",
    "# Capa 1\n",
    "model.add_module('fc1', nn.Linear(3136, 1024))\n",
    "# Funcion activacion 1\n",
    "model.add_module('relu3', nn.ReLU())\n",
    "# Metemos droput para mejorar la generalizacion\n",
    "model.add_module('drop_out', nn.Dropout())\n",
    "# Capa salida\n",
    "model.add_module('fc2', nn.Linear(1024, 10)) "
   ]
  },
  {
   "cell_type": "code",
   "execution_count": 55,
   "metadata": {},
   "outputs": [],
   "source": [
    "# Asignamos la funcion de coste y el optimizador\n",
    "loss_fn = nn.CrossEntropyLoss() # Esta ya contiene la softmax, se le pasan los logit\n",
    "optimizers = [torch.optim.Adam(model.parameters(), lr = 0.001)]\n",
    "optimizers.append(torch.optim.SGD(model.parameters(), lr = 0.001))"
   ]
  },
  {
   "cell_type": "code",
   "execution_count": null,
   "metadata": {},
   "outputs": [],
   "source": [
    "# ENTRENAMIENTO\n",
    "def train(model, n_epochs, train_dl, test_dl):\n",
    "    opts = ['Adam','Schocastic Gradient Descent']\n",
    "    i = 0\n",
    "    for opt in optimizers:\n",
    "        print(f\"\\nIntento con {opts[i]}\")\n",
    "        i += 1\n",
    "        # Variables para almacenar los resultados de cada epoca\n",
    "            # Train\n",
    "        loss_hist_train = [0] * n_epochs \n",
    "        accuracy_hist_train = [0] * n_epochs \n",
    "            # Test\n",
    "        loss_hist_test = [0] * n_epochs\n",
    "        accuracy_hist_test = [0] * n_epochs\n",
    "        \n",
    "        # Iteramos por epocas\n",
    "        for epoch in range(n_epochs):\n",
    "            model.train() # Modo entrenamiento\n",
    "            for x_batch, y_batch in train_dl:\n",
    "                prediction = model(x_batch) # Predecimos\n",
    "                loss = loss_fn(prediction, y_batch) # Calculamos el loss (este contiene el softmax)\n",
    "                loss.backward() # Calculamos los gradientes\n",
    "                opt.step() # Actualizamos los pesos con el optimizador\n",
    "                opt.zero_grad() # Vaciamos los gradientes\n",
    "\n",
    "                loss_hist_train[epoch] += loss.item() * y_batch.size(0) # Calculamos la perdida\n",
    "                \n",
    "                is_correct = ( # True, false, true, false...\n",
    "                    torch.argmax(prediction, dim=1) == y_batch\n",
    "                ).float()\n",
    "                accuracy_hist_train[epoch] += is_correct.sum()  # Calculamos las predicciones correctas\n",
    "            \n",
    "            loss_hist_train[epoch] /= len(train_dl.dataset) # Dividimos el numero de predicciones correctas entre el numero de observaciones \n",
    "            accuracy_hist_train[epoch] /= len(train_dl.dataset)\n",
    "        \n",
    "            \n",
    "            model.eval() # Modo evaluacion -> Test\n",
    "            with torch.no_grad():\n",
    "                for x_batch, y_batch in test_dl:\n",
    "                    prediction = model(x_batch) # Calculamos la prediccion\n",
    "                    loss = loss_fn(prediction, y_batch) # Calulamos la funcion de coste\n",
    "                    \n",
    "                    loss_hist_test[epoch] += loss.item() * y_batch.size(0)\n",
    "                    \n",
    "                    is_correct = (\n",
    "                        torch.argmax(prediction, dim=1) == y_batch\n",
    "                    ).float()\n",
    "                    accuracy_hist_test[epoch] += is_correct.sum()\n",
    "                \n",
    "            loss_hist_test[epoch] /= len(test_dl.dataset) # Dividimos el numero de predicciones correctas entre el numero de observaciones \n",
    "            accuracy_hist_test[epoch] /= len(test_dl.dataset)\n",
    "\n",
    "            \n",
    "            print(f'Epoca {epoch+1} accuracy: '\n",
    "                f'{accuracy_hist_train[epoch]}'\n",
    "                f'\\n\\t Test accuracy:{accuracy_hist_test[epoch]}')\n",
    "     "
   ]
  },
  {
   "cell_type": "code",
   "execution_count": 65,
   "metadata": {},
   "outputs": [
    {
     "name": "stdout",
     "output_type": "stream",
     "text": [
      "Intento con Adam\n",
      "Epoca 1 accuracy: 0.9923333525657654\n",
      "\t Test accuracy:0.8700000047683716\n",
      "Epoca 2 accuracy: 0.9973333477973938\n",
      "\t Test accuracy:0.8669999837875366\n",
      "Epoca 3 accuracy: 0.9990000128746033\n",
      "\t Test accuracy:0.8709999918937683\n",
      "Epoca 4 accuracy: 0.9953333139419556\n",
      "\t Test accuracy:0.8740000128746033\n",
      "Epoca 5 accuracy: 0.996666669845581\n",
      "\t Test accuracy:0.8650000095367432\n",
      "Epoca 6 accuracy: 0.9940000176429749\n",
      "\t Test accuracy:0.8690000176429749\n",
      "Epoca 7 accuracy: 0.9986666440963745\n",
      "\t Test accuracy:0.875\n",
      "Epoca 8 accuracy: 0.9983333349227905\n",
      "\t Test accuracy:0.8709999918937683\n",
      "Epoca 9 accuracy: 0.996666669845581\n",
      "\t Test accuracy:0.8679999709129333\n",
      "Epoca 10 accuracy: 0.9959999918937683\n",
      "\t Test accuracy:0.8690000176429749\n",
      "Epoca 11 accuracy: 0.996999979019165\n",
      "\t Test accuracy:0.871999979019165\n",
      "Epoca 12 accuracy: 0.9980000257492065\n",
      "\t Test accuracy:0.878000020980835\n",
      "Epoca 13 accuracy: 0.996999979019165\n",
      "\t Test accuracy:0.8619999885559082\n",
      "Epoca 14 accuracy: 0.9983333349227905\n",
      "\t Test accuracy:0.8700000047683716\n",
      "Epoca 15 accuracy: 0.9980000257492065\n",
      "\t Test accuracy:0.8690000176429749\n",
      "Epoca 16 accuracy: 0.996999979019165\n",
      "\t Test accuracy:0.8709999918937683\n",
      "Epoca 17 accuracy: 0.996666669845581\n",
      "\t Test accuracy:0.8690000176429749\n",
      "Epoca 18 accuracy: 0.9980000257492065\n",
      "\t Test accuracy:0.871999979019165\n",
      "Epoca 19 accuracy: 0.996999979019165\n",
      "\t Test accuracy:0.8640000224113464\n",
      "Epoca 20 accuracy: 0.9973333477973938\n",
      "\t Test accuracy:0.8679999709129333\n",
      "Intento con Schocastic Gradient Descent\n",
      "Epoca 1 accuracy: 0.9976666569709778\n",
      "\t Test accuracy:0.8690000176429749\n",
      "Epoca 2 accuracy: 0.9973333477973938\n",
      "\t Test accuracy:0.8700000047683716\n",
      "Epoca 3 accuracy: 0.9976666569709778\n",
      "\t Test accuracy:0.8679999709129333\n",
      "Epoca 4 accuracy: 0.9976666569709778\n",
      "\t Test accuracy:0.8700000047683716\n",
      "Epoca 5 accuracy: 0.9980000257492065\n",
      "\t Test accuracy:0.8700000047683716\n",
      "Epoca 6 accuracy: 0.9990000128746033\n",
      "\t Test accuracy:0.8690000176429749\n",
      "Epoca 7 accuracy: 0.9983333349227905\n",
      "\t Test accuracy:0.8669999837875366\n",
      "Epoca 8 accuracy: 0.9980000257492065\n",
      "\t Test accuracy:0.8669999837875366\n",
      "Epoca 9 accuracy: 0.9976666569709778\n",
      "\t Test accuracy:0.8669999837875366\n",
      "Epoca 10 accuracy: 0.9980000257492065\n",
      "\t Test accuracy:0.8690000176429749\n",
      "Epoca 11 accuracy: 0.9980000257492065\n",
      "\t Test accuracy:0.8690000176429749\n",
      "Epoca 12 accuracy: 0.9973333477973938\n",
      "\t Test accuracy:0.8690000176429749\n",
      "Epoca 13 accuracy: 0.9976666569709778\n",
      "\t Test accuracy:0.8700000047683716\n",
      "Epoca 14 accuracy: 0.9980000257492065\n",
      "\t Test accuracy:0.8700000047683716\n",
      "Epoca 15 accuracy: 0.9990000128746033\n",
      "\t Test accuracy:0.8700000047683716\n",
      "Epoca 16 accuracy: 0.9976666569709778\n",
      "\t Test accuracy:0.8709999918937683\n",
      "Epoca 17 accuracy: 0.9976666569709778\n",
      "\t Test accuracy:0.8709999918937683\n",
      "Epoca 18 accuracy: 0.9980000257492065\n",
      "\t Test accuracy:0.871999979019165\n",
      "Epoca 19 accuracy: 0.9983333349227905\n",
      "\t Test accuracy:0.8709999918937683\n",
      "Epoca 20 accuracy: 0.9983333349227905\n",
      "\t Test accuracy:0.8709999918937683\n"
     ]
    }
   ],
   "source": [
    "torch.manual_seed(1)\n",
    "num_epochs = 20\n",
    "train(model, num_epochs, train_dl, test_dl)"
   ]
  }
 ],
 "metadata": {
  "kernelspec": {
   "display_name": "base",
   "language": "python",
   "name": "python3"
  },
  "language_info": {
   "codemirror_mode": {
    "name": "ipython",
    "version": 3
   },
   "file_extension": ".py",
   "mimetype": "text/x-python",
   "name": "python",
   "nbconvert_exporter": "python",
   "pygments_lexer": "ipython3",
   "version": "3.12.4"
  }
 },
 "nbformat": 4,
 "nbformat_minor": 2
}
